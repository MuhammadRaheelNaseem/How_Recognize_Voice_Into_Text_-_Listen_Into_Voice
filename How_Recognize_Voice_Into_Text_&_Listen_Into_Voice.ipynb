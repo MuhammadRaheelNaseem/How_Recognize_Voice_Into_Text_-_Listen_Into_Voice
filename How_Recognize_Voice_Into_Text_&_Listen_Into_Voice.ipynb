{
 "cells": [
  {
   "cell_type": "code",
   "execution_count": 3,
   "metadata": {},
   "outputs": [
    {
     "name": "stdout",
     "output_type": "stream",
     "text": [
      "Listening.....\n",
      "You said: hi Jarvis how may I help you\n",
      "Close\n"
     ]
    }
   ],
   "source": [
    "import speech_recognition as sr\n",
    "import pyttsx3\n",
    "ask=\"\"\n",
    "def command():\n",
    "    global ask\n",
    "    r=sr.Recognizer()\n",
    "    with sr.Microphone() as source:\n",
    "        print('Listening.....')\n",
    "        r.pause_threshold=0.6\n",
    "        audio=r.listen(source)\n",
    "    try:\n",
    "        ask=r.recognize_google(audio,language='en-us')\n",
    "        print('You said: {}'.format(ask))\n",
    "    except Exception:\n",
    "        print(\"Say that again....\")\n",
    "        return \"\"\n",
    "    finally:\n",
    "        print(\"Close\")\n",
    "    #return ask\n",
    "command()\n",
    "#SpeakText(ask)\n",
    "# init function to get an engine instance for the speech synthesis\n",
    "engine = pyttsx3.init()\n",
    "engine.setProperty('rate',165)\n",
    "# say method on the engine that passing input text to be spoken\n",
    "#engine.say('Hello sir, how may I help you, sir.')\n",
    "engine.say(ask)\n",
    "# run and wait method, it processes the voice commands.\n",
    "engine.runAndWait()\n"
   ]
  }
 ],
 "metadata": {
  "kernelspec": {
   "display_name": "Python 3",
   "language": "python",
   "name": "python3"
  },
  "language_info": {
   "codemirror_mode": {
    "name": "ipython",
    "version": 3
   },
   "file_extension": ".py",
   "mimetype": "text/x-python",
   "name": "python",
   "nbconvert_exporter": "python",
   "pygments_lexer": "ipython3",
   "version": "3.8.5"
  }
 },
 "nbformat": 4,
 "nbformat_minor": 4
}
